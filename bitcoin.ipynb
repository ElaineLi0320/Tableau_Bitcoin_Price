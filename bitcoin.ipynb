{
 "cells": [
  {
   "cell_type": "code",
   "execution_count": 12,
   "metadata": {},
   "outputs": [],
   "source": [
    "# Install pandas, zipfile, kaggle\n",
    "# %pip install pandas\n",
    "# %pip install zipfile\n",
    "# %pip install kaggle\n",
    "# %pip install openpyxl\n",
    "\n",
    "# import\n",
    "import pandas as pd\n",
    "import zipfile\n",
    "import kaggle"
   ]
  },
  {
   "cell_type": "code",
   "execution_count": 5,
   "metadata": {},
   "outputs": [
    {
     "name": "stdout",
     "output_type": "stream",
     "text": [
      "2019-2024-us-stock-market-data.zip: Skipping, found more recently modified local copy (use --force to force download)\n"
     ]
    }
   ],
   "source": [
    "# download dataset from kaggle using the Kaggle API\n",
    "!kaggle datasets download -d saketk511/2019-2024-us-stock-market-data"
   ]
  },
  {
   "cell_type": "code",
   "execution_count": 6,
   "metadata": {},
   "outputs": [],
   "source": [
    "# extract the file from the downloaded zip file\n",
    "zipfile_name = '2019-2024-us-stock-market-data.zip'\n",
    "with zipfile.ZipFile(zipfile_name, 'r') as file:\n",
    "    file.extractall()"
   ]
  },
  {
   "cell_type": "code",
   "execution_count": 10,
   "metadata": {},
   "outputs": [],
   "source": [
    "# read in the csv file as a pandas dataframe\n",
    "stocks = pd.read_csv(\"stocks.csv\")"
   ]
  },
  {
   "cell_type": "code",
   "execution_count": 11,
   "metadata": {},
   "outputs": [
    {
     "name": "stdout",
     "output_type": "stream",
     "text": [
      "<class 'pandas.core.frame.DataFrame'>\n",
      "RangeIndex: 1243 entries, 0 to 1242\n",
      "Data columns (total 39 columns):\n",
      " #   Column             Non-Null Count  Dtype  \n",
      "---  ------             --------------  -----  \n",
      " 0   Unnamed: 0         1243 non-null   int64  \n",
      " 1   Date               1243 non-null   object \n",
      " 2   Natural_Gas_Price  1243 non-null   float64\n",
      " 3   Natural_Gas_Vol.   1239 non-null   float64\n",
      " 4   Crude_oil_Price    1243 non-null   float64\n",
      " 5   Crude_oil_Vol.     1220 non-null   float64\n",
      " 6   Copper_Price       1243 non-null   float64\n",
      " 7   Copper_Vol.        1206 non-null   float64\n",
      " 8   Bitcoin_Price      1243 non-null   object \n",
      " 9   Bitcoin_Vol.       1243 non-null   float64\n",
      " 10  Platinum_Price     1243 non-null   object \n",
      " 11  Platinum_Vol.      636 non-null    float64\n",
      " 12  Ethereum_Price     1243 non-null   object \n",
      " 13  Ethereum_Vol.      1243 non-null   float64\n",
      " 14  S&P_500_Price      1243 non-null   object \n",
      " 15  Nasdaq_100_Price   1243 non-null   object \n",
      " 16  Nasdaq_100_Vol.    1242 non-null   float64\n",
      " 17  Apple_Price        1243 non-null   float64\n",
      " 18  Apple_Vol.         1243 non-null   float64\n",
      " 19  Tesla_Price        1243 non-null   float64\n",
      " 20  Tesla_Vol.         1243 non-null   float64\n",
      " 21  Microsoft_Price    1243 non-null   float64\n",
      " 22  Microsoft_Vol.     1243 non-null   float64\n",
      " 23  Silver_Price       1243 non-null   float64\n",
      " 24  Silver_Vol.        1196 non-null   float64\n",
      " 25  Google_Price       1243 non-null   float64\n",
      " 26  Google_Vol.        1243 non-null   float64\n",
      " 27  Nvidia_Price       1243 non-null   float64\n",
      " 28  Nvidia_Vol.        1243 non-null   float64\n",
      " 29  Berkshire_Price    1243 non-null   object \n",
      " 30  Berkshire_Vol.     1243 non-null   float64\n",
      " 31  Netflix_Price      1243 non-null   float64\n",
      " 32  Netflix_Vol.       1243 non-null   float64\n",
      " 33  Amazon_Price       1243 non-null   float64\n",
      " 34  Amazon_Vol.        1243 non-null   float64\n",
      " 35  Meta_Price         1243 non-null   float64\n",
      " 36  Meta_Vol.          1243 non-null   float64\n",
      " 37  Gold_Price         1243 non-null   object \n",
      " 38  Gold_Vol.          1241 non-null   float64\n",
      "dtypes: float64(30), int64(1), object(8)\n",
      "memory usage: 378.9+ KB\n"
     ]
    }
   ],
   "source": [
    "# explore the data\n",
    "stocks.info()"
   ]
  },
  {
   "cell_type": "code",
   "execution_count": 15,
   "metadata": {},
   "outputs": [],
   "source": [
    "# select specific columns\n",
    "stocks_selected = stocks[['Date', 'Bitcoin_Price', 'Gold_Price']]"
   ]
  },
  {
   "cell_type": "code",
   "execution_count": 16,
   "metadata": {},
   "outputs": [],
   "source": [
    "# writing the final dataframe to an excel file\n",
    "stocks_selected.to_excel('stocks.xlsx', sheet_name='Data')\n"
   ]
  }
 ],
 "metadata": {
  "kernelspec": {
   "display_name": "Python 3",
   "language": "python",
   "name": "python3"
  },
  "language_info": {
   "codemirror_mode": {
    "name": "ipython",
    "version": 3
   },
   "file_extension": ".py",
   "mimetype": "text/x-python",
   "name": "python",
   "nbconvert_exporter": "python",
   "pygments_lexer": "ipython3",
   "version": "3.11.5"
  }
 },
 "nbformat": 4,
 "nbformat_minor": 2
}
